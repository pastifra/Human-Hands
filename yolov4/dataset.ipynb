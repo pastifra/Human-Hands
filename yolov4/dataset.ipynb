{
  "cells": [
    {
      "cell_type": "markdown",
      "metadata": {
        "id": "view-in-github",
        "colab_type": "text"
      },
      "source": [
        "<a href=\"https://colab.research.google.com/github/frapasti/Human-Hands/blob/main/yolov4/dataset.ipynb\" target=\"_parent\"><img src=\"https://colab.research.google.com/assets/colab-badge.svg\" alt=\"Open In Colab\"/></a>"
      ]
    },
    {
      "cell_type": "markdown",
      "source": [
        "# #TODOs\n",
        "* Find the best architecture on a small dataset (See 3. for details)\n",
        "* Create a batch generation function in order to not fill the memory of Colab --> DONE! ;)\n",
        "* Train the best architecture on the new batch generator\n",
        "\n",
        "\n",
        "\n",
        "\n",
        "\n"
      ],
      "metadata": {
        "id": "ZepRJHEMHLKG"
      }
    },
    {
      "cell_type": "markdown",
      "metadata": {
        "id": "0xitDj09iWxz"
      },
      "source": [
        "# IMPORTS\n",
        "\n",
        "* Import all the needed libraries for the notebook\n",
        "* Mount the drive containing the datasets\n",
        "* Unzip the a small part of the dataset\n",
        "\n",
        "\n",
        "\n",
        "\n",
        "\n"
      ]
    },
    {
      "cell_type": "code",
      "execution_count": null,
      "metadata": {
        "colab": {
          "base_uri": "https://localhost:8080/"
        },
        "id": "0K0ulR4GIezQ",
        "outputId": "c57ddf19-3b41-488e-b86a-2a1d6e41ef7a"
      },
      "outputs": [
        {
          "output_type": "stream",
          "name": "stdout",
          "text": [
            "Mounted at /content/drive\n"
          ]
        }
      ],
      "source": [
        "!pip install natsort &> /dev/null\n",
        "import os\n",
        "from natsort import natsorted\n",
        "import cv2                   \n",
        "\n",
        "def listdir_fullpath(d):\n",
        "    return [os.path.join(d, f) for f in os.listdir(d)]\n",
        "\n",
        "from google.colab import drive\n",
        "drive.mount('/content/drive')\n",
        "\n",
        "!unzip drive/My\\ Drive/Datasets/egoHands.zip &> /dev/null #no need to fill the output stream with all the inflations"
      ]
    },
    {
      "cell_type": "code",
      "source": [
        "!unzip drive/My\\ Drive/Datasets/ColorDA.zip &> /dev/null"
      ],
      "metadata": {
        "id": "YqjDe7bawdis"
      },
      "execution_count": null,
      "outputs": []
    },
    {
      "cell_type": "code",
      "source": [
        "!unzip drive/My\\ Drive/Datasets/handsOverFaces.zip &> /dev/null"
      ],
      "metadata": {
        "id": "zVOJhsvtVpzm"
      },
      "execution_count": null,
      "outputs": []
    },
    {
      "cell_type": "code",
      "source": [
        "!unzip drive/My\\ Drive/Datasets/noHands.zip &> /dev/null"
      ],
      "metadata": {
        "id": "XUcEiShHV01z"
      },
      "execution_count": null,
      "outputs": []
    },
    {
      "cell_type": "markdown",
      "metadata": {
        "id": "KhHQ6f_lidwe"
      },
      "source": [
        "# Data preparation"
      ]
    },
    {
      "cell_type": "markdown",
      "metadata": {
        "id": "8QOJFcuch8Q8"
      },
      "source": [
        "Get all the bboxes path and all the img_paths\n",
        "Additionally read all the text files corresponding to the bounding boxes and append them to a list.\n",
        "**bboxes** contains lists of bounding boxes, one per image"
      ]
    },
    {
      "cell_type": "code",
      "execution_count": null,
      "metadata": {
        "id": "b59cil7YJJRM"
      },
      "outputs": [],
      "source": [
        "#Get from the unzipped dataset the list of all the paths of images and txt files\n",
        "#listdir returns unsorted so use natsorted method!\n",
        "\n",
        "#paths needed for the training set\n",
        "bboxes_paths = natsorted(listdir_fullpath('/content/egoHands/boundingboxes'))\n",
        "img_paths = natsorted(listdir_fullpath('/content/egoHands/frames'))\n",
        "\n",
        "assert len(bboxes_paths) == len(img_paths), f\"Number of bboxes_paths doesn't correspond with number of images!\"\n",
        "\n",
        "#Read all the text files and create a list of list of bounding boxes for the training, one list per image \n",
        "bboxes = []*len(bboxes_paths)\n",
        "for path in bboxes_paths:\n",
        "  bboxes_it = []\n",
        "  file = open(path, 'r')\n",
        "  Lines = file.readlines()\n",
        "  for line in Lines:\n",
        "    box = line.split(',')\n",
        "    if(not(int(box[0]) == 0 and int(box[1]) == 0 and int(box[2]) == 0 and int(box[3]) == 0)):\n",
        "      bboxes_it.append([int(x) for x in box])\n",
        "  bboxes.append(bboxes_it)\n",
        "\n",
        "assert(len(bboxes) == len(img_paths))"
      ]
    },
    {
      "cell_type": "code",
      "source": [
        "colorBboxes_paths = natsorted(listdir_fullpath('/content/ColorDA/boundingboxes'))\n",
        "colorImg_paths = natsorted(listdir_fullpath('/content/ColorDA/frames'))\n",
        "\n",
        "assert len(colorBboxes_paths) == len(colorImg_paths), f\"Number of bboxes_paths doesn't correspond with number of images!\"\n",
        "\n",
        "for path in colorBboxes_paths:\n",
        "  bboxes_it = []\n",
        "  file = open(path, 'r')\n",
        "  Lines = file.readlines()\n",
        "  for line in Lines:\n",
        "    bboxes_it.append([int(float(x)) for x in line.split(',')])\n",
        "  bboxes.append(bboxes_it)\n",
        "\n",
        "for path in colorImg_paths:\n",
        "  img_paths.append(path)\n",
        "\n",
        "assert(len(bboxes) == len(img_paths))"
      ],
      "metadata": {
        "id": "TCefBHR7EM1D"
      },
      "execution_count": null,
      "outputs": []
    },
    {
      "cell_type": "code",
      "source": [
        "noHands_paths = natsorted(listdir_fullpath('/content/noHands'))\n",
        "\n",
        "for path in noHands_paths:\n",
        "  img_paths.append(path)\n",
        "  bboxes.append([])\n",
        "\n",
        "assert(len(bboxes) == len(img_paths))"
      ],
      "metadata": {
        "id": "3U1BlvluLkDf"
      },
      "execution_count": null,
      "outputs": []
    },
    {
      "cell_type": "code",
      "source": [
        "hofBboxes_paths = natsorted(listdir_fullpath('/content/handsOverFaces/boundingboxes'))\n",
        "hofImg_paths = natsorted(listdir_fullpath('/content/handsOverFaces/frames'))\n",
        "\n",
        "assert len(hofBboxes_paths) == len(hofImg_paths), f\"Number of bboxes_paths doesn't correspond with number of images!\"\n",
        "\n",
        "for path in hofBboxes_paths:\n",
        "  bboxes_it = []\n",
        "  file = open(path, 'r')\n",
        "  Lines = file.readlines()\n",
        "  for line in Lines:\n",
        "    bboxes_it.append([int(float(x)) for x in line.split(',')])\n",
        "  bboxes.append(bboxes_it)\n",
        "\n",
        "for path in hofImg_paths:\n",
        "  img_paths.append(path)\n",
        "\n",
        "assert(len(bboxes) == len(img_paths))"
      ],
      "metadata": {
        "id": "d3Rb-_PmV-cK"
      },
      "execution_count": null,
      "outputs": []
    },
    {
      "cell_type": "code",
      "source": [
        "import cv2 \n",
        "import os \n",
        "for i in range(0, len(img_paths)):\n",
        "  path = img_paths[i]\n",
        "  directory = r'/content/drive/MyDrive/Datasets/data/obj'\n",
        "  img = cv2.imread(path) \n",
        "  os.chdir(directory) \n",
        "  \n",
        "  filename = \"/content/drive/MyDrive/Datasets/data/obj/\" + str(i)+\".jpg\"\n",
        "  cv2.imwrite(filename, img) \n"
      ],
      "metadata": {
        "id": "se5IiGux62FP"
      },
      "execution_count": null,
      "outputs": []
    },
    {
      "cell_type": "code",
      "source": [
        "def cocoToYolo(img_path, bbox):\n",
        "  img = cv2.imread(img_path)\n",
        "  img_height = img.shape[0]\n",
        "  img_width = img.shape[1]\n",
        "\n",
        "  x = bbox[0]\n",
        "  y = bbox[1]\n",
        "  w = bbox[2]\n",
        "  h = bbox[3]\n",
        "\n",
        "  dw = 1/img_width\n",
        "  dh = 1/img_height\n",
        "\n",
        "  x_center = x + w/2.0\n",
        "  y_center = y + h/2.0\n",
        "\n",
        "  x_new = x_center*dw\n",
        "  y_new = y_center*dh\n",
        "  w_new = w*dw\n",
        "  h_new = h*dh\n",
        "\n",
        "  return [0, x_new, y_new, w_new, h_new]"
      ],
      "metadata": {
        "id": "Dyu0OaQLVXRW"
      },
      "execution_count": null,
      "outputs": []
    },
    {
      "cell_type": "code",
      "source": [
        "import numpy as np\n",
        "for i in range (0, len(bboxes)):\n",
        "  if(bboxes[i]==[]):\n",
        "    with open('/content/drive/MyDrive/Datasets/data/obj/'+str(i)+'.txt', 'w') as fp:\n",
        "      pass\n",
        "  else:\n",
        "    yolo_bbox = []\n",
        "    for box in bboxes[i]:\n",
        "      yolo_bbox.append(cocoToYolo(img_paths[i], box))\n",
        "    mat = np.matrix(yolo_bbox)\n",
        "    with open('/content/drive/MyDrive/Datasets/data/obj/'+str(i)+'.txt','wb') as f:\n",
        "      for line in mat:\n",
        "          np.savetxt(f, line, fmt=\"%.0i \" \"%.10f \" \"%.10f \" \"%.10f \" \"%.10f\")"
      ],
      "metadata": {
        "id": "DZjw3U8NZd7h"
      },
      "execution_count": null,
      "outputs": []
    }
  ],
  "metadata": {
    "colab": {
      "collapsed_sections": [
        "2QiQc0GANMr9"
      ],
      "name": "Copia di Yolo_training.ipynb",
      "provenance": [],
      "include_colab_link": true
    },
    "gpuClass": "standard",
    "kernelspec": {
      "display_name": "Python 3",
      "name": "python3"
    },
    "language_info": {
      "name": "python"
    }
  },
  "nbformat": 4,
  "nbformat_minor": 0
}